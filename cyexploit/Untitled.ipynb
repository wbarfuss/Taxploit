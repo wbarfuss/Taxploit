{
 "cells": [
  {
   "cell_type": "code",
   "execution_count": 43,
   "metadata": {
    "collapsed": true
   },
   "outputs": [],
   "source": [
    "import numpy as np\n",
    "import matplotlib.pyplot as plt\n",
    "import math\n",
    "%matplotlib inline"
   ]
  },
  {
   "cell_type": "code",
   "execution_count": 16,
   "metadata": {
    "collapsed": false
   },
   "outputs": [],
   "source": [
    "\n",
    "def func(t1,t0=0,a=1,E=0.5,s0=1):\n",
    "    return 1./a *math.log(1+(1+(E-1)/(a*s0))*math.exp(-(1-E)*t1) ) + (1-E)/a *t1 \\\n",
    "    - 1./a *math.log(1+(1+(E-1)/(a*s0))*math.exp(-(1-E)*t0) ) + (1-E)/a *t0\n",
    "    \n",
    "def fanc(t1,t0=0,a=1,E=0.5,s0=1):\n",
    "    1./a *math.log(1+(1+(E-1)/(a*s0))*math.exp(-(1-E)*t1) ) + (1-E)/a *t1 \\"
   ]
  },
  {
   "cell_type": "code",
   "execution_count": 49,
   "metadata": {
    "collapsed": false
   },
   "outputs": [],
   "source": [
    "\n",
    "t0 = np.linspace(0,1,1000)\n",
    "t1= np.sort( t0 + np.random.exponential(.1,size=len(t0)))\n",
    "\n",
    "integral = np.empty_like(t1)\n"
   ]
  },
  {
   "cell_type": "code",
   "execution_count": 61,
   "metadata": {
    "collapsed": true
   },
   "outputs": [],
   "source": [
    "for i in range(len(t1)):\n",
    "    integral[i] = func(t1=t1[i],t0=t0[i])"
   ]
  },
  {
   "cell_type": "code",
   "execution_count": 63,
   "metadata": {
    "collapsed": true
   },
   "outputs": [],
   "source": [
    "integral = map(func,t1,t0)"
   ]
  },
  {
   "cell_type": "code",
   "execution_count": 64,
   "metadata": {
    "collapsed": false
   },
   "outputs": [
    {
     "data": {
      "image/png": "[encoded data removed]",
      "text/plain": [
       "<matplotlib.figure.Figure at 0xaf75a2cc>"
      ]
     },
     "metadata": {},
     "output_type": "display_data"
    }
   ],
   "source": [
    "plt.plot(t0,integral,'.')\n",
    "plt.show()\n"
   ]
  },
  {
   "cell_type": "code",
   "execution_count": 24,
   "metadata": {
    "collapsed": true
   },
   "outputs": [],
   "source": [
    "plt.ion()\n"
   ]
  }
 ],
 "metadata": {
  "kernelspec": {
   "display_name": "Python 3",
   "language": "python",
   "name": "python3"
  },
  "language_info": {
   "codemirror_mode": {
    "name": "ipython",
    "version": 3
   },
   "file_extension": ".py",
   "mimetype": "text/x-python",
   "name": "python",
   "nbconvert_exporter": "python",
   "pygments_lexer": "ipython3",
   "version": "3.6.2"
  }
 },
 "nbformat": 4,
 "nbformat_minor": 2
}
